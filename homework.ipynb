{
 "cells": [
  {
   "cell_type": "code",
   "execution_count": null,
   "id": "needed-implement",
   "metadata": {},
   "outputs": [],
   "source": [
    "# %load homework.py\n",
    "import numpy as np\n",
    "a = np.arange(15).reshape(3, 5)\n",
    "# 1.   [簡答題] 請問下列兩種將 Array 轉換成 List 的方式有何不同？\n",
    "print(a)\n",
    "print('list(a): ', list(a), \"\\n\", type(list(a)[0]))\n",
    "print('tolist(): ', a.tolist(), \"\\n\", type(a.tolist()[0]))\n",
    "print('list僅轉換第一層資料，tolist則完全轉換')\n",
    "\n",
    "# 2.   請試著在程式中印出以下三個 NdArray 的屬性？（屬性：ndim、shape、size、dtype、itemsize、length、type）\n",
    "a = np.random.randint(10, size=6)\n",
    "b = np.random.randint(10, size=(3, 4))\n",
    "c = np.random.randint(10, size=(2, 3, 2))\n",
    "print(a.ndim) # 陣列有多少維度\n",
    "print(a.shape) # 每維度的大小\n",
    "print(a.size) # 陣列有多少元素\n",
    "print(a.dtype) # 資料型態\n",
    "print(a.itemsize) # 每元素佔用的空間\n",
    "print(len(a))\n",
    "print(type(a))\n",
    "\n",
    "print(b.ndim) # 陣列有多少維度\n",
    "print(b.shape) # 每維度的大小\n",
    "print(b.size) # 陣列有多少元素\n",
    "print(b.dtype) # 資料型態\n",
    "print(b.itemsize) # 每元素佔用的空間\n",
    "print(len(b))\n",
    "print(type(b))\n",
    "\n",
    "print(c.ndim) # 陣列有多少維度\n",
    "print(c.shape) # 每維度的大小\n",
    "print(c.size) # 陣列有多少元素\n",
    "print(c.dtype) # 資料型態\n",
    "print(c.itemsize) # 每元素佔用的空間\n",
    "print(len(c))\n",
    "print(type(c))\n",
    "\n",
    "# 3.   如何利用 list(...) 實現 a.tolist() 的效果？試著用程式實作。\n",
    "print(a.tolist())\n",
    "print(list(a))\n",
    "print(b.tolist())\n",
    "print(list(b))\n",
    "print(c.tolist())\n",
    "print(list(c))\n",
    "\n",
    "def list(iterable):\n",
    "    newlist = []\n",
    "    [newlist.append(x) for x in iter(iterable)]\n",
    "    return newlist\n",
    "def list(iterable):\n",
    "    return iterable.tolist()\n",
    "print(list(a))\n",
    "print(list(b))\n",
    "print(list(c))\n"
   ]
  },
  {
   "cell_type": "code",
   "execution_count": null,
   "id": "unique-hearts",
   "metadata": {},
   "outputs": [],
   "source": []
  }
 ],
 "metadata": {
  "kernelspec": {
   "display_name": "Python 3",
   "language": "python",
   "name": "python3"
  },
  "language_info": {
   "codemirror_mode": {
    "name": "ipython",
    "version": 3
   },
   "file_extension": ".py",
   "mimetype": "text/x-python",
   "name": "python",
   "nbconvert_exporter": "python",
   "pygments_lexer": "ipython3",
   "version": "3.6.13"
  }
 },
 "nbformat": 4,
 "nbformat_minor": 5
}
