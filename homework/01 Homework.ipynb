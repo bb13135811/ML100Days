{
 "cells": [
  {
   "cell_type": "markdown",
   "metadata": {
    "id": "P6xk2_jLsvFF"
   },
   "source": [
    "# [作業目標]\n",
    "\n",
    "1. [簡答題] 請問下列兩種將 Array 轉換成 List 的方式有何不同？\n",
    "\n",
    "```\n",
    "print('list(a): ', list(a))\n",
    "print('tolist(): ', a.tolist())\n",
    "```\n",
    "\n",
    "2. 請試著在程式中印出以下三個 NdArray 的屬性？（屬性：ndim、shape、size、dtype、itemsize、length、type）\n",
    "\n",
    "```\n",
    "a = np.random.randint(10, size=6) \n",
    "b = np.random.randint(10, size=(3,4)) \n",
    "c = np.random.randint(10, size=(2,3,2)) \n",
    "```\n",
    "\n",
    "3. 如何利用 list(...) 實現 a.tolist() 的效果？試著用程式實作。\n"
   ]
  },
  {
   "cell_type": "markdown",
   "metadata": {
    "id": "uXGll28asvFS"
   },
   "source": [
    "# 作業 "
   ]
  },
  {
   "cell_type": "markdown",
   "metadata": {
    "id": "SYkvkp9YLwB7"
   },
   "source": [
    "### 1. [簡答題] 請問下列兩種將 Array 轉換成 List 的方式有何不同？\n",
    "\n",
    "```\n",
    "print('list(a): ', list(a))\n",
    "print('tolist(): ', a.tolist())\n",
    "```\n"
   ]
  },
  {
   "cell_type": "code",
   "execution_count": 18,
   "metadata": {
    "id": "5QrYoyNWsvFS",
    "outputId": "13f374d0-6f1b-47aa-bbac-c7d1a8c6995c"
   },
   "outputs": [
    {
     "name": "stdout",
     "output_type": "stream",
     "text": [
      "[[1 0 1 1 0]\n",
      " [1 0 1 0 1]\n",
      " [0 0 0 0 1]]\n",
      "========\n",
      "list(a): [array([1, 0, 1, 1, 0]), array([1, 0, 1, 0, 1]), array([0, 0, 0, 0, 1])]\n",
      "========\n",
      "tolist: [[1, 0, 1, 1, 0], [1, 0, 1, 0, 1], [0, 0, 0, 0, 1]]\n",
      "========\n",
      "list僅轉換第一層: 3x5 -> 1x5 \n",
      " a.tolist()可進行多層轉換\n"
     ]
    }
   ],
   "source": [
    "import numpy as np\n",
    "a = np.random.randint(2, size= (3, 5))\n",
    "print(a)\n",
    "print(\"========\")\n",
    "print(\"list(a):\", list(a))\n",
    "print(\"========\")\n",
    "print(\"tolist:\", a.tolist())\n",
    "print(\"========\")\n",
    "print(\"list僅轉換第一層: 3x5 -> 1x5\",\"\\n\",\"a.tolist()可進行多層轉換\")"
   ]
  },
  {
   "cell_type": "markdown",
   "metadata": {
    "id": "AC9wUCyALwB9"
   },
   "source": [
    "### 2. 請試著在程式中印出以下三個 NdArray 的屬性並且解釋結果？（屬性：ndim、shape、size、dtype、itemsize、length、type）\n",
    "\n",
    "```\n",
    "a = np.random.randint(10, size=6) \n",
    "b = np.random.randint(10, size=(3,4)) \n",
    "c = np.random.randint(10, size=(2,3,2)) \n",
    "```"
   ]
  },
  {
   "cell_type": "code",
   "execution_count": 36,
   "metadata": {
    "id": "e1gVI0tvsvFY",
    "outputId": "9be10770-9042-40c8-c4bc-217b84be9fc9"
   },
   "outputs": [
    {
     "name": "stdout",
     "output_type": "stream",
     "text": [
      "[9 7 4 0 0 7]\n",
      "幾個維度: 1\n",
      "陣列形狀: (6,)\n",
      "資料數量: 6\n",
      "資料型態: int32\n",
      "每元素佔的位元組: 4\n",
      "第一層資料數量: 6\n",
      "陣列類別: <class 'numpy.ndarray'>\n"
     ]
    }
   ],
   "source": [
    "a = np.random.randint(10, size=6) \n",
    "print(a)\n",
    "print(\"幾個維度:\",a.ndim)\n",
    "print(\"陣列形狀:\",a.shape)\n",
    "print(\"資料數量:\",a.size)\n",
    "print(\"資料型態:\",a.dtype)\n",
    "print(\"每元素佔的位元組:\",a.itemsize)\n",
    "print(\"第一層資料數量:\",len(a))\n",
    "print(\"陣列類別:\",type(a))"
   ]
  },
  {
   "cell_type": "code",
   "execution_count": 37,
   "metadata": {
    "id": "iIJrIr7kLwB_",
    "outputId": "083c5519-394c-404e-9764-100c4ed5118a"
   },
   "outputs": [
    {
     "name": "stdout",
     "output_type": "stream",
     "text": [
      "[[8 9 8 3]\n",
      " [2 8 0 3]\n",
      " [6 5 6 5]]\n",
      "幾個維度: 2\n",
      "陣列形狀: (3, 4)\n",
      "資料數量: 12\n",
      "資料型態: int32\n",
      "每元素佔的位元組: 4\n",
      "第一層資料數量: 3\n",
      "陣列類別: <class 'numpy.ndarray'>\n"
     ]
    }
   ],
   "source": [
    "b = np.random.randint(10, size=(3,4)) \n",
    "print(b)\n",
    "print(\"幾個維度:\",b.ndim)\n",
    "print(\"陣列形狀:\",b.shape)\n",
    "print(\"資料數量:\",b.size)\n",
    "print(\"資料型態:\",b.dtype)\n",
    "print(\"每元素佔的位元組:\",b.itemsize)\n",
    "print(\"第一層資料數量:\",len(b))\n",
    "print(\"陣列類別:\",type(b))"
   ]
  },
  {
   "cell_type": "code",
   "execution_count": 38,
   "metadata": {
    "id": "98SRFh_FLwCC",
    "outputId": "dc65dfac-9ae6-49d2-f854-88eccebc2aac"
   },
   "outputs": [
    {
     "name": "stdout",
     "output_type": "stream",
     "text": [
      "[[[9 8]\n",
      "  [0 2]\n",
      "  [1 5]]\n",
      "\n",
      " [[6 3]\n",
      "  [8 3]\n",
      "  [6 8]]]\n",
      "幾個維度: 3\n",
      "陣列形狀: (2, 3, 2)\n",
      "資料數量: 12\n",
      "資料型態: int32\n",
      "每元素佔的位元組: 4\n",
      "第一層資料數量: 2\n",
      "陣列類別: <class 'numpy.ndarray'>\n"
     ]
    }
   ],
   "source": [
    "c = np.random.randint(10, size=(2,3,2)) \n",
    "print(c)\n",
    "print(\"幾個維度:\",c.ndim)\n",
    "print(\"陣列形狀:\",c.shape)\n",
    "print(\"資料數量:\",c.size)\n",
    "print(\"資料型態:\",c.dtype)\n",
    "print(\"每元素佔的位元組:\",c.itemsize)\n",
    "print(\"第一層資料數量:\",len(c))\n",
    "print(\"陣列類別:\",type(c))"
   ]
  },
  {
   "cell_type": "markdown",
   "metadata": {
    "id": "Uf6zC0QZLwCE"
   },
   "source": [
    "### 3. 如何利用 list(...) 實現 a.tolist() 的效果？試著用程式實作。\n"
   ]
  },
  {
   "cell_type": "code",
   "execution_count": 43,
   "metadata": {
    "id": "sCUzHu_BLwCF",
    "outputId": "ba9c8945-8efb-42b1-f978-2bbdda97accd"
   },
   "outputs": [
    {
     "name": "stdout",
     "output_type": "stream",
     "text": [
      "[9, 1, 9, 9, 0, 5]\n",
      "[9, 1, 9, 9, 0, 5]\n"
     ]
    }
   ],
   "source": [
    "a = np.random.randint(10, size=6) \n",
    "\n",
    "print(a.tolist())\n",
    "print(list(a))\n"
   ]
  },
  {
   "cell_type": "code",
   "execution_count": 44,
   "metadata": {
    "id": "IUkVtw8RLwCG",
    "outputId": "e39875a5-5ec7-431b-c12a-485acc167e44"
   },
   "outputs": [
    {
     "name": "stdout",
     "output_type": "stream",
     "text": [
      "[[1, 9, 3, 7], [9, 9, 4, 9], [7, 9, 0, 9]]\n",
      "[array([1, 9, 3, 7]), array([9, 9, 4, 9]), array([7, 9, 0, 9])]\n"
     ]
    }
   ],
   "source": [
    "b = np.random.randint(10, size=(3,4)) \n",
    "\n",
    "print(b.tolist())\n",
    "print(list(b))\n"
   ]
  },
  {
   "cell_type": "code",
   "execution_count": 45,
   "metadata": {
    "id": "NPhF8_CqLwCG",
    "outputId": "51fab908-5bfd-415f-9584-92bb376648c8"
   },
   "outputs": [
    {
     "name": "stdout",
     "output_type": "stream",
     "text": [
      "[[[0, 5], [8, 9], [3, 5]], [[2, 9], [7, 3], [1, 5]]]\n",
      "[array([[0, 5],\n",
      "       [8, 9],\n",
      "       [3, 5]]), array([[2, 9],\n",
      "       [7, 3],\n",
      "       [1, 5]])]\n"
     ]
    }
   ],
   "source": [
    "c = np.random.randint(10, size=(2,3,2)) \n",
    "\n",
    "print(c.tolist())\n",
    "print(list(c))\n"
   ]
  },
  {
   "cell_type": "code",
   "execution_count": 46,
   "metadata": {
    "id": "3Hc8vQYtLwCH",
    "outputId": "1290bc93-84ca-4da4-eb1a-315da37afaff"
   },
   "outputs": [
    {
     "name": "stdout",
     "output_type": "stream",
     "text": [
      "[9, 1, 9, 9, 0, 5]\n",
      "[[1, 9, 3, 7], [9, 9, 4, 9], [7, 9, 0, 9]]\n",
      "[[[0, 5], [8, 9], [3, 5]], [[2, 9], [7, 3], [1, 5]]]\n"
     ]
    }
   ],
   "source": [
    "def tolist(iterable):\n",
    "    result= iterable.tolist()\n",
    "    return result\n",
    "\n",
    "print(tolist(a))\n",
    "print(tolist(b))\n",
    "print(tolist(c))"
   ]
  },
  {
   "cell_type": "code",
   "execution_count": null,
   "metadata": {
    "id": "tvqCpuFILwCK"
   },
   "outputs": [],
   "source": []
  },
  {
   "cell_type": "code",
   "execution_count": null,
   "metadata": {
    "id": "640whg6NLwCK"
   },
   "outputs": [],
   "source": []
  }
 ],
 "metadata": {
  "colab": {
   "name": "01Homework_維元.ipynb",
   "provenance": []
  },
  "kernelspec": {
   "display_name": "Python 3",
   "language": "python",
   "name": "python3"
  },
  "language_info": {
   "codemirror_mode": {
    "name": "ipython",
    "version": 3
   },
   "file_extension": ".py",
   "mimetype": "text/x-python",
   "name": "python",
   "nbconvert_exporter": "python",
   "pygments_lexer": "ipython3",
   "version": "3.8.8"
  }
 },
 "nbformat": 4,
 "nbformat_minor": 1
}
